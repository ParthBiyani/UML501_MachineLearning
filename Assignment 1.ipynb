{
 "cells": [
  {
   "cell_type": "markdown",
   "id": "2e2bc9af",
   "metadata": {},
   "source": [
    "# Assignment 1"
   ]
  },
  {
   "cell_type": "code",
   "execution_count": 2,
   "id": "faa349d2",
   "metadata": {},
   "outputs": [],
   "source": [
    "import numpy as np"
   ]
  },
  {
   "cell_type": "markdown",
   "id": "bace0264",
   "metadata": {},
   "source": [
    "### Q1"
   ]
  },
  {
   "cell_type": "markdown",
   "id": "c96c755b",
   "metadata": {},
   "source": [
    "(a) Reverse the NumPy array: arr = np.array([1, 2, 3, 6, 4, 5])"
   ]
  },
  {
   "cell_type": "code",
   "execution_count": 2,
   "id": "f67817ec",
   "metadata": {},
   "outputs": [
    {
     "name": "stdout",
     "output_type": "stream",
     "text": [
      "[5 4 6 3 2 1]\n"
     ]
    }
   ],
   "source": [
    "arr = np.array([1, 2, 3, 6, 4, 5])\n",
    "reverse_arr = arr[::-1]\n",
    "print(reverse_arr)"
   ]
  },
  {
   "cell_type": "markdown",
   "id": "51e6102c",
   "metadata": {},
   "source": [
    "(b) Flatten the NumPy arr: array1 = np.array([[1, 2, 3], [2, 4, 5], [1, 2, 3]]) using any two\n",
    "NumPy in-built methods"
   ]
  },
  {
   "cell_type": "code",
   "execution_count": 5,
   "id": "10eca643",
   "metadata": {},
   "outputs": [
    {
     "name": "stdout",
     "output_type": "stream",
     "text": [
      "[1 2 3 2 4 5 1 2 3]\n",
      "[1 2 3 2 4 5 1 2 3]\n"
     ]
    }
   ],
   "source": [
    "array1 = np.array([[1, 2, 3], [2, 4, 5], [1, 2, 3]])\n",
    "array2 = array1.flatten()\n",
    "print(array2)\n",
    "array3 = array1.ravel()\n",
    "print(array3)"
   ]
  },
  {
   "cell_type": "markdown",
   "id": "c3662a85",
   "metadata": {},
   "source": [
    "(c) Compare the following numpy arrays:\n",
    "<br>arr1 = np.array([[1, 2], [3, 4]])\n",
    "<br>arr2 = np.array([[1, 2], [3, 4]])"
   ]
  },
  {
   "cell_type": "code",
   "execution_count": null,
   "id": "e427454d",
   "metadata": {},
   "outputs": [
    {
     "name": "stdout",
     "output_type": "stream",
     "text": [
      "[[ True  True]\n",
      " [ True  True]]\n",
      "\n",
      "True\n"
     ]
    }
   ],
   "source": [
    "arr1 = np.array([[1, 2], [3, 4]])\n",
    "arr2 = np.array([[1, 2], [3, 4]])\n",
    "\n",
    "print(arr1 == arr2)                 # Element wise equality check\n",
    "print()\n",
    "print(np.array_equal(arr1, arr2))   # Overall array equality check"
   ]
  },
  {
   "cell_type": "markdown",
   "id": "d8f79be8",
   "metadata": {},
   "source": [
    "(d) Find the most frequent value and their indice(s) in the following arrays:\n",
    "<br>i. x = np.array([1,2,3,4,5,1,2,1,1,1])\n",
    "<br>ii. y = np.array([1, 1, 1, 2, 3, 4, 2, 4, 3, 3, ])"
   ]
  },
  {
   "cell_type": "code",
   "execution_count": 17,
   "id": "7ca16180",
   "metadata": {},
   "outputs": [
    {
     "name": "stdout",
     "output_type": "stream",
     "text": [
      "Most frequent value in the array: 1\n",
      "\n",
      "Indices of the most frequent value in the array:\n",
      "0 5 7 8 9 \n",
      "\n",
      "Most frequent value in above array: \n",
      "1 3 "
     ]
    }
   ],
   "source": [
    "# (i.)\n",
    "x = np.array([1, 2, 3, 4, 5, 1, 2, 1, 1, 1])\n",
    "value = np.bincount(x).argmax()\n",
    "print(\"Most frequent value in the array:\", value)\n",
    "print(\"\\nIndices of the most frequent value in the array:\")\n",
    "for i in range(len(x)):\n",
    "    if x[i] == value:\n",
    "        print(i, end = \" \")\n",
    "\n",
    "print(\"\\n\")\n",
    "# (ii.)\n",
    "# Since more than one element has the maximum frequency\n",
    "y = np.array([1, 1, 1, 2, 3, 4, 2, 4, 3, 3])\n",
    "print(\"Most frequent value in above array: \")\n",
    "count = np.bincount(y)\n",
    "maximum = max(count)\n",
    "\n",
    "for i in range(len(count)):\n",
    "    if count[i] == maximum:\n",
    "        print(i, end = \" \")"
   ]
  },
  {
   "cell_type": "markdown",
   "id": "0f843e8e",
   "metadata": {},
   "source": [
    "(e) For the array gfg = np.matrix('[4, 1, 9; 12, 3, 1; 4, 5, 6]'), find\n",
    "<br>i. Sum of all elements\n",
    "<br>ii. Sum of all elements row-wise\n",
    "<br>iii. Sum of all elements column-wise"
   ]
  },
  {
   "cell_type": "code",
   "execution_count": 16,
   "id": "cae97307",
   "metadata": {},
   "outputs": [
    {
     "name": "stdout",
     "output_type": "stream",
     "text": [
      "sum of all elements:  45\n",
      "\n",
      "Row wise sum of elements:  [[20  9 16]]\n",
      "\n",
      "Column wise sum of elements:\n",
      " [[14]\n",
      " [16]\n",
      " [15]]\n"
     ]
    }
   ],
   "source": [
    "gfg = np.matrix('[4, 1, 9; 12, 3, 1; 4, 5, 6]')\n",
    "\n",
    "# (i.)\n",
    "print(\"sum of all elements: \", np.sum(gfg))\n",
    "\n",
    "# (ii.)\n",
    "print(\"\\nRow wise sum of elements: \", gfg.sum(axis=0))\n",
    "\n",
    "# (iii.)\n",
    "print(\"\\nColumn wise sum of elements:\\n\", gfg.sum(axis=1))"
   ]
  },
  {
   "cell_type": "markdown",
   "id": "6759443e",
   "metadata": {},
   "source": [
    "(f) For the matrix: n_array = np.array([[55, 25, 15],[30, 44, 2],[11, 45, 77]]), find\n",
    "<br>i. Sum of diagonal elements\n",
    "<br>ii. Eigen values of matrix\n",
    "<br>iii. Eigen vectors of matrix\n",
    "<br>iv. Inverse of matrix\n",
    "<br>v. Determinant of matrix"
   ]
  },
  {
   "cell_type": "code",
   "execution_count": null,
   "id": "bd5394fe",
   "metadata": {},
   "outputs": [
    {
     "name": "stdout",
     "output_type": "stream",
     "text": [
      "Sum of diagonal elements:  176 \n",
      "\n",
      "Eigenvalues:  [98.16835147 28.097044   49.73460452] \n",
      "\n",
      "Eigenvectors:  [[ 0.4574917   0.34637121 -0.15017693]\n",
      " [ 0.28447814 -0.72784061 -0.4852124 ]\n",
      " [ 0.84248058  0.59184038  0.8614034 ]] \n",
      "\n",
      "Inverse of the matrix:  [[ 0.02404141 -0.00911212 -0.00444671]\n",
      " [-0.01667882  0.02966905  0.0024785 ]\n",
      " [ 0.00631287 -0.01603732  0.01217379]] \n",
      "\n",
      "Determinant of the matrix:  137180.0000000001 \n",
      "\n"
     ]
    }
   ],
   "source": [
    "n_array = np.array([[55, 25, 15], [30, 44, 2], [11, 45, 77]])\n",
    "\n",
    "# (i.) Sum of diagonal elements\n",
    "trace = np.trace(n_array)\n",
    "print(\"Sum of diagonal elements: \", trace, \"\\n\")\n",
    "\n",
    "# (ii.) & (iii.) Eigenvalues and Eigenvectors\n",
    "eigvals, eigvecs = np.linalg.eig(n_array)\n",
    "print(\"Eigenvalues: \", eigvals, \"\\n\")\n",
    "print(\"Eigenvectors: \", eigvecs, \"\\n\")\n",
    "\n",
    "# (iv.) Inverse\n",
    "inverse = np.linalg.inv(n_array)\n",
    "print(\"Inverse of the matrix: \", inverse, \"\\n\")\n",
    "\n",
    "# (v.) Determinant\n",
    "determinant = np.linalg.det(n_array)\n",
    "print(\"Determinant of the matrix: \", determinant, \"\\n\")"
   ]
  },
  {
   "cell_type": "markdown",
   "id": "85bf3baf",
   "metadata": {},
   "source": [
    "(g) Multiply the following matrices and also find covariance between matrices using NumPy:\n",
    "<br>i. p = [[1, 2], [2, 3]]\n",
    "<br><t>q = [[4, 5], [6, 7]]\n",
    "<br>ii. p = [[1, 2], [2, 3], [4, 5]]\n",
    "<br>        q = [[4, 5, 1], [6, 7, 2]]"
   ]
  },
  {
   "cell_type": "code",
   "execution_count": 6,
   "id": "a88710f7",
   "metadata": {},
   "outputs": [
    {
     "name": "stdout",
     "output_type": "stream",
     "text": [
      "Matrix Multiplication (p1 x q1):\n",
      " [[16 19]\n",
      " [26 31]]\n",
      "\n",
      "Covariance matrix between p1 and q1:\n",
      " [[0.66666667 1.        ]\n",
      " [1.         1.66666667]]\n",
      "\n",
      "Matrix Multiplication (p2 x q2):\n",
      " [[16 19  5]\n",
      " [26 31  8]\n",
      " [46 55 14]]\n",
      "\n",
      "Covariance matrix between p2 and q2:\n",
      " [[2.16666667 0.23333333]\n",
      " [0.23333333 5.36666667]]\n"
     ]
    }
   ],
   "source": [
    "# (i.)\n",
    "p1 = np.array([[1, 2], [2, 3]])\n",
    "q1 = np.array([[4, 5], [6, 7]])\n",
    "\n",
    "# Matrix multiplication\n",
    "product1 = np.dot(p1, q1)\n",
    "print(\"Matrix Multiplication (p1 x q1):\\n\", product1)\n",
    "\n",
    "# Covariance (flattening matrices)\n",
    "combined1 = np.vstack((p1.flatten(), q1.flatten()))\n",
    "cov_matrix1 = np.cov(combined1)\n",
    "print(\"\\nCovariance matrix between p1 and q1:\\n\", cov_matrix1)\n",
    "\n",
    "\n",
    "# (ii.)\n",
    "p2 = np.array([[1, 2], [2, 3], [4, 5]])\n",
    "q2 = np.array([[4, 5, 1], [6, 7, 2]])\n",
    "\n",
    "# Matrix multiplication\n",
    "product2 = np.dot(p2, q2)\n",
    "print(\"\\nMatrix Multiplication (p2 x q2):\\n\", product2)\n",
    "\n",
    "# Covariance (flattening matrices)\n",
    "combined2 = np.vstack((p2.flatten(), q2.flatten()))\n",
    "cov_matrix2 = np.cov(combined2)\n",
    "print(\"\\nCovariance matrix between p2 and q2:\\n\", cov_matrix2)\n"
   ]
  },
  {
   "cell_type": "markdown",
   "id": "24ca6b0f",
   "metadata": {},
   "source": [
    "(h) For the matrices: x = np.array([[2, 3, 4], [3, 2, 9]]); y = np.array([[1, 5, 0], [5, 10, 3]]),\n",
    "find inner, outer and cartesian product?"
   ]
  },
  {
   "cell_type": "code",
   "execution_count": 5,
   "id": "8421ed7c",
   "metadata": {},
   "outputs": [
    {
     "name": "stdout",
     "output_type": "stream",
     "text": [
      "Inner Product:\n",
      " [[17 52]\n",
      " [13 62]]\n",
      "\n",
      "Outer Product:\n",
      " [[ 2 10  0 10 20  6]\n",
      " [ 3 15  0 15 30  9]\n",
      " [ 4 20  0 20 40 12]\n",
      " [ 3 15  0 15 30  9]\n",
      " [ 2 10  0 10 20  6]\n",
      " [ 9 45  0 45 90 27]]\n",
      "\n",
      "Cartesian Product (row-wise pairs):\n",
      "([2, 3, 4], [1, 5, 0])\n",
      "([2, 3, 4], [5, 10, 3])\n",
      "([3, 2, 9], [1, 5, 0])\n",
      "([3, 2, 9], [5, 10, 3])\n"
     ]
    }
   ],
   "source": [
    "from itertools import product\n",
    "\n",
    "# Define the arrays\n",
    "x = np.array([[2, 3, 4], [3, 2, 9]])\n",
    "y = np.array([[1, 5, 0], [5, 10, 3]])\n",
    "\n",
    "# Inner Product\n",
    "inner_product = np.inner(x, y)\n",
    "print(\"Inner Product:\\n\", inner_product)\n",
    "\n",
    "# Outer product\n",
    "x_flat = x.flatten()\n",
    "y_flat = y.flatten()\n",
    "outer_product = np.outer(x_flat, y_flat)\n",
    "print(\"\\nOuter Product:\\n\", outer_product)\n",
    "\n",
    "# Cartesian product\n",
    "x_rows = x.tolist()\n",
    "y_rows = y.tolist()\n",
    "cartesian_product = list(product(x_rows, y_rows))\n",
    "\n",
    "print(\"\\nCartesian Product (row-wise pairs):\")\n",
    "for pair in cartesian_product:\n",
    "    print(pair)\n"
   ]
  },
  {
   "cell_type": "markdown",
   "id": "7fbcf626",
   "metadata": {},
   "source": [
    "### Q2"
   ]
  },
  {
   "cell_type": "markdown",
   "id": "f6ddb929",
   "metadata": {},
   "source": [
    "(a) For the array: array = np.array([[1, -2, 3],[-4, 5, -6]])\n",
    "<br>i. Find element-wise absolute value\n",
    "<br>ii. Find the 25th, 50th, and 75th percentile of flattened array, for each column, for each row.\n",
    "<br>iii. Mean, Median and Standard Deviation of flattened array, of each column, and each row"
   ]
  },
  {
   "cell_type": "code",
   "execution_count": 8,
   "id": "a82709fa",
   "metadata": {},
   "outputs": [
    {
     "name": "stdout",
     "output_type": "stream",
     "text": [
      "Element-wise Absolute Value:\n",
      " [[1 2 3]\n",
      " [4 5 6]]\n",
      "\n",
      "Percentiles of flattened array (25th, 50th, 75th): [-3.5 -0.5  2.5]\n",
      "Percentiles for each column:\n",
      " [[-2.75 -0.25 -3.75]\n",
      " [-1.5   1.5  -1.5 ]\n",
      " [-0.25  3.25  0.75]]\n",
      "Percentiles for each row:\n",
      " [[-0.5 -5. ]\n",
      " [ 1.  -4. ]\n",
      " [ 2.   0.5]]\n",
      "\n",
      "Flattened Array:\n",
      "Mean: -0.5\n",
      "Median: -0.5\n",
      "Standard Deviation: 3.8622100754188224\n",
      "\n",
      "Column-wise:\n",
      "Mean: [-1.5  1.5 -1.5]\n",
      "Median: [-1.5  1.5 -1.5]\n",
      "Standard Deviation: [2.5 3.5 4.5]\n",
      "\n",
      "Row-wise:\n",
      "Mean: [ 0.66666667 -1.66666667]\n",
      "Median: [ 1. -4.]\n",
      "Standard Deviation: [2.05480467 4.78423336]\n"
     ]
    }
   ],
   "source": [
    "# Define the array\n",
    "array = np.array([[1, -2, 3], [-4, 5, -6]])\n",
    "\n",
    "\n",
    "# (i.)\n",
    "abs_array = np.abs(array)\n",
    "print(\"Element-wise Absolute Value:\\n\", abs_array)\n",
    "\n",
    "\n",
    "# (ii.)\n",
    "percentiles_flat = np.percentile(array, [25, 50, 75])\n",
    "print(\"\\nPercentiles of flattened array (25th, 50th, 75th):\", percentiles_flat)\n",
    "\n",
    "# Percentiles by column (axis=0)\n",
    "percentiles_cols = np.percentile(array, [25, 50, 75], axis=0)\n",
    "print(\"Percentiles for each column:\\n\", percentiles_cols)\n",
    "\n",
    "# Percentiles by row (axis=1)\n",
    "percentiles_rows = np.percentile(array, [25, 50, 75], axis=1)\n",
    "print(\"Percentiles for each row:\\n\", percentiles_rows)\n",
    "\n",
    "\n",
    "# (iii.)\n",
    "# Flattened\n",
    "mean_flat = np.mean(array)\n",
    "median_flat = np.median(array)\n",
    "std_flat = np.std(array)\n",
    "print(\"\\nFlattened Array:\")\n",
    "print(\"Mean:\", mean_flat)\n",
    "print(\"Median:\", median_flat)\n",
    "print(\"Standard Deviation:\", std_flat)\n",
    "\n",
    "# By columns\n",
    "mean_col = np.mean(array, axis=0)\n",
    "median_col = np.median(array, axis=0)\n",
    "std_col = np.std(array, axis=0)\n",
    "print(\"\\nColumn-wise:\")\n",
    "print(\"Mean:\", mean_col)\n",
    "print(\"Median:\", median_col)\n",
    "print(\"Standard Deviation:\", std_col)\n",
    "\n",
    "# By rows\n",
    "mean_row = np.mean(array, axis=1)\n",
    "median_row = np.median(array, axis=1)\n",
    "std_row = np.std(array, axis=1)\n",
    "print(\"\\nRow-wise:\")\n",
    "print(\"Mean:\", mean_row)\n",
    "print(\"Median:\", median_row)\n",
    "print(\"Standard Deviation:\", std_row)"
   ]
  },
  {
   "cell_type": "markdown",
   "id": "d3f76db4",
   "metadata": {},
   "source": [
    "(b) For the array: a = np.array([-1.8, -1.6, -0.5, 0.5,1.6, 1.8, 3.0]). Find floor, ceiling and truncated value, rounded values"
   ]
  },
  {
   "cell_type": "code",
   "execution_count": 9,
   "id": "cda3534f",
   "metadata": {},
   "outputs": [
    {
     "name": "stdout",
     "output_type": "stream",
     "text": [
      "Floor values:  [-2. -2. -1.  0.  1.  1.  3.]\n",
      "Ceiling values:  [-1. -1. -0.  1.  2.  2.  3.]\n",
      "Truncated values:  [-1. -1. -0.  0.  1.  1.  3.]\n",
      "Rounded values:  [-2. -2. -0.  0.  2.  2.  3.]\n"
     ]
    }
   ],
   "source": [
    "# Define the array\n",
    "a = np.array([-1.8, -1.6, -0.5, 0.5, 1.6, 1.8, 3.0])\n",
    "\n",
    "# Floor\n",
    "floor_vals = np.floor(a)\n",
    "print(\"Floor values: \", floor_vals)\n",
    "\n",
    "# Ceiling\n",
    "ceil_vals = np.ceil(a)\n",
    "print(\"Ceiling values: \", ceil_vals)\n",
    "\n",
    "# Truncated values (remove decimal part, toward zero)\n",
    "trunc_vals = np.trunc(a)\n",
    "print(\"Truncated values: \", trunc_vals)\n",
    "\n",
    "# Rounded values (to nearest integer)\n",
    "rounded_vals = np.round(a)\n",
    "print(\"Rounded values: \", rounded_vals)"
   ]
  },
  {
   "cell_type": "markdown",
   "id": "733a6cfe",
   "metadata": {},
   "source": [
    "### Q3"
   ]
  },
  {
   "cell_type": "markdown",
   "id": "2235f2e0",
   "metadata": {},
   "source": [
    "(a) For the array: array = np.array([10, 52, 62, 16, 16, 54, 453]), find\n",
    "<br>i. Sorted array\n",
    "<br>ii. Indices of sorted array\n",
    "<br>iii. 4 smallest elements\n",
    "<br>iv. 5 largest elements"
   ]
  },
  {
   "cell_type": "code",
   "execution_count": 10,
   "id": "dfbd7d21",
   "metadata": {},
   "outputs": [
    {
     "name": "stdout",
     "output_type": "stream",
     "text": [
      "Sorted array: [ 10  16  16  52  54  62 453]\n",
      "Indices of sorted array: [0 3 4 1 5 2 6]\n",
      "4 smallest elements: [10 16 16 52]\n",
      "5 largest elements: [453  62  54  52  16]\n"
     ]
    }
   ],
   "source": [
    "array = np.array([10, 52, 62, 16, 16, 54, 453])\n",
    "\n",
    "# (i.)\n",
    "sorted_array = np.sort(array)\n",
    "print(\"Sorted array:\", sorted_array)\n",
    "\n",
    "# (ii.)\n",
    "sorted_indices = np.argsort(array)\n",
    "print(\"Indices of sorted array:\", sorted_indices)\n",
    "\n",
    "# (iii.)\n",
    "smallest_4 = np.sort(array)[:4]\n",
    "print(\"4 smallest elements:\", smallest_4)\n",
    "\n",
    "# (iv.)\n",
    "largest_5 = np.sort(array)[-5:][::-1]  # or use np.partition for better performance\n",
    "print(\"5 largest elements:\", largest_5)\n"
   ]
  },
  {
   "cell_type": "markdown",
   "id": "32cd55b8",
   "metadata": {},
   "source": [
    "(b) For the array: array = np.array([1.0, 1.2, 2.2, 2.0, 3.0, 2.0]), find\n",
    "<br>i. Integer elements only\n",
    "<br>ii. Float elements only"
   ]
  },
  {
   "cell_type": "code",
   "execution_count": 11,
   "id": "b5479762",
   "metadata": {},
   "outputs": [
    {
     "name": "stdout",
     "output_type": "stream",
     "text": [
      "Integer elements only: [1. 2. 3. 2.]\n",
      "Float elements only: [1.2 2.2]\n"
     ]
    }
   ],
   "source": [
    "array = np.array([1.0, 1.2, 2.2, 2.0, 3.0, 2.0])\n",
    "\n",
    "# (i.)\n",
    "integers_only = array[array == array.astype(int)]\n",
    "print(\"Integer elements only:\", integers_only)\n",
    "\n",
    "# (ii.)\n",
    "floats_only = array[array != array.astype(int)]\n",
    "print(\"Float elements only:\", floats_only)\n"
   ]
  },
  {
   "cell_type": "markdown",
   "id": "c42ce1a9",
   "metadata": {},
   "source": [
    "### Q4"
   ]
  },
  {
   "cell_type": "markdown",
   "id": "f0b865e8",
   "metadata": {},
   "source": [
    "(a) Write a function named img_to_array(path) that reads an image from a specified path and\n",
    "save it as text file on local machine? (Note: use separate cases for RGB and Grey Scale\n",
    "images)"
   ]
  },
  {
   "cell_type": "code",
   "execution_count": 13,
   "id": "9c5927ee",
   "metadata": {},
   "outputs": [
    {
     "name": "stdout",
     "output_type": "stream",
     "text": [
      "RGB image detected.\n"
     ]
    }
   ],
   "source": [
    "import cv2\n",
    "import numpy as np\n",
    "\n",
    "def img_to_array(path):\n",
    "    # Read image in color (OpenCV always loads as BGR, even if grayscale)\n",
    "    img = cv2.imread(path, cv2.IMREAD_UNCHANGED)\n",
    "\n",
    "    # Check if image is grayscale (2D array)\n",
    "    if len(img.shape) == 2:\n",
    "        # Grayscale image\n",
    "        np.savetxt(\"image_array.txt\", img, fmt='%d')\n",
    "        print(\"Grayscale image detected.\")\n",
    "    elif len(img.shape) == 3 and img.shape[2] == 3:\n",
    "        # RGB image (convert from BGR to RGB)\n",
    "        img_rgb = cv2.cvtColor(img, cv2.COLOR_BGR2RGB)\n",
    "        np.savetxt(\"image_array.txt\", img_rgb.reshape(-1, 3), fmt='%d')\n",
    "        print(\"RGB image detected.\")\n",
    "    else:\n",
    "        print(\"Unsupported image format.\")\n",
    "\n",
    "\n",
    "image_path = \"Bird.jpg\"\n",
    "img_to_array(image_path)"
   ]
  },
  {
   "cell_type": "markdown",
   "id": "37c0f6aa",
   "metadata": {},
   "source": [
    "(b) Load the saved file into jupyter notebook?"
   ]
  },
  {
   "cell_type": "code",
   "execution_count": 15,
   "id": "76c3e658",
   "metadata": {},
   "outputs": [
    {
     "name": "stdout",
     "output_type": "stream",
     "text": [
      "Loaded data:\n",
      " [[200 208 219]\n",
      " [199 207 218]\n",
      " [199 207 218]\n",
      " ...\n",
      " [222 226 235]\n",
      " [222 226 237]\n",
      " [223 227 238]]\n"
     ]
    }
   ],
   "source": [
    "# Load the text file\n",
    "data = np.loadtxt(\"image_array.txt\", dtype=int)\n",
    "print(\"Loaded data:\\n\", data)"
   ]
  }
 ],
 "metadata": {
  "kernelspec": {
   "display_name": "Python 3",
   "language": "python",
   "name": "python3"
  },
  "language_info": {
   "codemirror_mode": {
    "name": "ipython",
    "version": 3
   },
   "file_extension": ".py",
   "mimetype": "text/x-python",
   "name": "python",
   "nbconvert_exporter": "python",
   "pygments_lexer": "ipython3",
   "version": "3.11.7"
  }
 },
 "nbformat": 4,
 "nbformat_minor": 5
}
